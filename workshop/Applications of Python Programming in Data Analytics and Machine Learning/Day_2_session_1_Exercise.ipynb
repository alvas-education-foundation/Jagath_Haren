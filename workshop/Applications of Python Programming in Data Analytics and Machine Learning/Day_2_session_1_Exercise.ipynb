{
  "nbformat": 4,
  "nbformat_minor": 0,
  "metadata": {
    "colab": {
      "name": "Day 2  session 1 Exercise.ipynb",
      "provenance": [],
      "authorship_tag": "ABX9TyObEHSfOGjW5QVRu0DnQ8js",
      "include_colab_link": true
    },
    "kernelspec": {
      "name": "python3",
      "display_name": "Python 3"
    }
  },
  "cells": [
    {
      "cell_type": "markdown",
      "metadata": {
        "id": "view-in-github",
        "colab_type": "text"
      },
      "source": [
        "<a href=\"https://colab.research.google.com/github/alvas-education-foundation/Jagath_Haren/blob/master/workshop/Applications%20of%20Python%20Programming%20in%20Data%20Analytics%20and%20Machine%20Learning/Day_2_session_1_Exercise.ipynb\" target=\"_parent\"><img src=\"https://colab.research.google.com/assets/colab-badge.svg\" alt=\"Open In Colab\"/></a>"
      ]
    },
    {
      "cell_type": "markdown",
      "metadata": {
        "id": "sd7hE1kR6dQd",
        "colab_type": "text"
      },
      "source": [
        "#print multiples of 3 upto 200 using a list"
      ]
    },
    {
      "cell_type": "code",
      "metadata": {
        "id": "QQ4LVryp6hg1",
        "colab_type": "code",
        "colab": {
          "base_uri": "https://localhost:8080/",
          "height": 54
        },
        "outputId": "6d5cbbc6-5845-4156-8133-c41689d0f4b1"
      },
      "source": [
        "a=[]\n",
        "for i in range(201):\n",
        "  if i%3==0:\n",
        "   a.append(i)\n",
        "print(a)\n"
      ],
      "execution_count": 15,
      "outputs": [
        {
          "output_type": "stream",
          "text": [
            "[0, 3, 6, 9, 12, 15, 18, 21, 24, 27, 30, 33, 36, 39, 42, 45, 48, 51, 54, 57, 60, 63, 66, 69, 72, 75, 78, 81, 84, 87, 90, 93, 96, 99, 102, 105, 108, 111, 114, 117, 120, 123, 126, 129, 132, 135, 138, 141, 144, 147, 150, 153, 156, 159, 162, 165, 168, 171, 174, 177, 180, 183, 186, 189, 192, 195, 198]\n"
          ],
          "name": "stdout"
        }
      ]
    },
    {
      "cell_type": "markdown",
      "metadata": {
        "id": "GjASc7q76hxU",
        "colab_type": "text"
      },
      "source": [
        "#print the nos only divisable by 5 and 7 between 1000 and 2000 using a list( both inclusive)"
      ]
    },
    {
      "cell_type": "code",
      "metadata": {
        "id": "FXtOE19u6h9C",
        "colab_type": "code",
        "colab": {
          "base_uri": "https://localhost:8080/",
          "height": 54
        },
        "outputId": "cc8ede72-bce9-4406-c23c-f2f17a3edffb"
      },
      "source": [
        "a=[]\n",
        "for i in range(1000,2001):\n",
        "  if i%5==0 and i%7==0:\n",
        "    a.append(i)\n",
        "print(a)"
      ],
      "execution_count": 13,
      "outputs": [
        {
          "output_type": "stream",
          "text": [
            "[1015, 1050, 1085, 1120, 1155, 1190, 1225, 1260, 1295, 1330, 1365, 1400, 1435, 1470, 1505, 1540, 1575, 1610, 1645, 1680, 1715, 1750, 1785, 1820, 1855, 1890, 1925, 1960, 1995]\n"
          ],
          "name": "stdout"
        }
      ]
    },
    {
      "cell_type": "markdown",
      "metadata": {
        "id": "t6AMMw5H6iIt",
        "colab_type": "text"
      },
      "source": [
        "#Add the n number of names in a list and print them alphabetically and reverse alphabetically."
      ]
    },
    {
      "cell_type": "code",
      "metadata": {
        "id": "tgBJOy6R6iUi",
        "colab_type": "code",
        "colab": {
          "base_uri": "https://localhost:8080/",
          "height": 119
        },
        "outputId": "712d7ce1-f710-4569-fb46-7ec5f403e619"
      },
      "source": [
        "a=[]\n",
        "c=[]\n",
        "n=int(input(\"Enter the value of n:\"))\n",
        "for i in range(0,n):\n",
        "  b=input(\"Enter name {0}:\".format(1+i))\n",
        "  a.append(b)\n",
        "print(sorted(a))\n",
        "print(c)"
      ],
      "execution_count": 3,
      "outputs": [
        {
          "output_type": "stream",
          "text": [
            "Enter the value of n:3\n",
            "Enter name 1:snkla\n",
            "Enter name 2:hhjj\n",
            "Enter name 3:aaa\n",
            "['aaa', 'hhjj', 'snkla']\n",
            "[]\n"
          ],
          "name": "stdout"
        }
      ]
    },
    {
      "cell_type": "markdown",
      "metadata": {
        "id": "BIbiYYo26vuo",
        "colab_type": "text"
      },
      "source": [
        "#Print  perfect squares and divisible by 5 between 500 and 1000( (both inclusive) using list\n",
        "\n"
      ]
    },
    {
      "cell_type": "code",
      "metadata": {
        "id": "ZClRctRy6v-0",
        "colab_type": "code",
        "colab": {}
      },
      "source": [
        ""
      ],
      "execution_count": 0,
      "outputs": []
    },
    {
      "cell_type": "markdown",
      "metadata": {
        "id": "P-aPM7RT62DP",
        "colab_type": "text"
      },
      "source": [
        "#Get  a string and store word by word as elements in a tuple and find the largest word in the  tuple and print it\n"
      ]
    },
    {
      "cell_type": "code",
      "metadata": {
        "id": "kryIGRB162RL",
        "colab_type": "code",
        "colab": {}
      },
      "source": [
        "a=[]\n",
        "n= int(input(\"Enter the number of elements in list:\"))\n",
        "for x in range(0,n):\n",
        "    element=input(\"Enter element\" + str(x+1) + \":\")\n",
        "    a.append(element)\n",
        "max1=len(a[0])\n",
        "temp=a[0]\n",
        "for i in a:\n",
        "    if(len(i)>max1):\n",
        "       max1=len(i)\n",
        "       temp=i\n",
        "print(\"The word with the longest length is:\")\n",
        "print(temp)"
      ],
      "execution_count": 0,
      "outputs": []
    },
    {
      "cell_type": "markdown",
      "metadata": {
        "id": "qfxx5G_C62cD",
        "colab_type": "text"
      },
      "source": [
        "#Get rollno and marks (Rollno, mark) as list of tuples for n number of students through keyboard  and print them in marks descending order with rollno."
      ]
    },
    {
      "cell_type": "code",
      "metadata": {
        "id": "zxm_HuqV62ny",
        "colab_type": "code",
        "colab": {}
      },
      "source": [
        "\n",
        "print(sorted([(input(\"Enter rollno: \"), input(\"Enter marks: \")) for i in range(int(input(\"Enter number of students\")))], key=lambda x: x[1],reverse=True))"
      ],
      "execution_count": 0,
      "outputs": []
    },
    {
      "cell_type": "markdown",
      "metadata": {
        "id": "O88WnG0163Ym",
        "colab_type": "text"
      },
      "source": [
        "#Get name and salary (name, salary) as list of tuples for n number of employees through keyboard  and print them in name alphabetical order with salary"
      ]
    },
    {
      "cell_type": "code",
      "metadata": {
        "id": "bVh5Y4R_63j1",
        "colab_type": "code",
        "colab": {
          "base_uri": "https://localhost:8080/",
          "height": 119
        },
        "outputId": "70702a9b-35c5-47e8-f090-39f06077a2ea"
      },
      "source": [
        "\n",
        "print(sorted([(input(\"Enter name: \"), input(\"Enter salary: \"))\n",
        "for i in range(int(input(\"Enter number of employees\")))], key=lambda x: x[0]))\n"
      ],
      "execution_count": 2,
      "outputs": [
        {
          "output_type": "stream",
          "text": [
            "Enter number of employees2\n",
            "Enter name: sss\n",
            "Enter salary: 34\n",
            "Enter name: ed\n",
            "Enter salary: 22\n",
            "[('ed', '22'), ('sss', '34')]\n"
          ],
          "name": "stdout"
        }
      ]
    }
  ]
}